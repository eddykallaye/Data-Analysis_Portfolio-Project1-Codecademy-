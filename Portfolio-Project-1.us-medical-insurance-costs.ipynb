{
 "cells": [
  {
   "cell_type": "markdown",
   "metadata": {},
   "source": [
    "# U.S. Medical Insurance Costs"
   ]
  },
  {
   "cell_type": "markdown",
   "metadata": {},
   "source": [
    "# Comprehensive Insurance Dataset Analysis Project\n",
    "\n",
    "### Introduction\n",
    "\n",
    "This Jupyter Notebook embarks on a comprehensive analysis of the \"insurance.csv\" dataset, with a primary focus on comparing insurance costs between smokers and non-smokers. The dataset encompasses seven columns:\n",
    "\n",
    "Age: Integer representing the age of the insured.\n",
    "Sex: String indicating the gender of the insured (male/female).\n",
    "BMI: Float representing the Body Mass Index of the insured.\n",
    "Children: Integer indicating the number of children/dependents covered by the insurance.\n",
    "Smoker: Boolean value specifying whether the insured is a smoker (yes/no).\n",
    "Region: String denoting the region of the insured.\n",
    "Charges: Float representing the insurance charges.\n",
    "\n",
    "### Project Scope and Goals\n",
    "\n",
    "Average Age Calculation: Determine the average age of the patients in the dataset.\n",
    "\n",
    "Gender Distribution: Return the count of males and females present in the dataset.\n",
    "\n",
    "Geographical Analysis: Identify the geographical distribution of patients based on their regions.\n",
    "\n",
    "Average Yearly Medical Charges: Calculate and return the average yearly medical charges incurred by the patients.\n",
    "\n",
    "Insurance Cost Comparison:\n",
    "\n",
    "Calculate the average insurance charges for male smokers.\n",
    "Calculate the average insurance charges for male non-smokers.\n",
    "Calculate the average insurance charges for female smokers.\n",
    "Calculate the average insurance charges for female non-smokers.\n",
    "Compare insurance costs between male smokers and male non-smokers.\n",
    "Compare insurance costs between female smokers and female non-smokers.\n",
    "\n",
    "### Implementation Details\n",
    "\n",
    "To perform these inspections,define a class named PatientsInfo, containing five methods:\n",
    "\n",
    "analyze_ages(): Calculates the average age of the patients.\n",
    "analyze_sexes(): Returns the count of males and females in the dataset.\n",
    "unique_regions(): Identifies the unique geographical regions represented in the dataset.\n",
    "average_charges(): Calculates and returns the average yearly medical charges incurred by the patients.\n",
    "insurance_cost_comparison(): Compares insurance costs between male smokers, male non-smokers, female smokers, and female non-smokers.\n",
    "\n",
    "This comprehensive analysis aims to provide detailed insights into various facets of the dataset. By focusing on demographic distribution, regional representation, and tailored comparisons of insurance costs based on gender and smoking habits, the analysis offers a comprehensive exploration of the dataset. The PatientsInfo class facilitates the execution of these operations, enhancing the overall understanding of the dataset."
   ]
  },
  {
   "cell_type": "markdown",
   "metadata": {},
   "source": [
    "### 1. Data Loading:\n",
    "\n",
    "Use the csv library to read the \"insurance.csv\" file.\n",
    "Create a list of dictionaries, where each dictionary represents a row in the dataset."
   ]
  },
  {
   "cell_type": "code",
   "execution_count": 6,
   "metadata": {},
   "outputs": [],
   "source": [
    "import csv\n",
    "\n",
    "data_list = []\n",
    "with open('insurance.csv','r') as insurance_csv:\n",
    "    file_dict = csv.DictReader(insurance_csv)\n",
    "    for row in file_dict:\n",
    "        data_list.append(row)"
   ]
  },
  {
   "cell_type": "code",
   "execution_count": 7,
   "metadata": {},
   "outputs": [
    {
     "name": "stdout",
     "output_type": "stream",
     "text": [
      "[{'age': '19', 'sex': 'female', 'bmi': '27.9', 'children': '0', 'smoker': 'yes', 'region': 'southwest', 'charges': '16884.924'}, {'age': '18', 'sex': 'male', 'bmi': '33.77', 'children': '1', 'smoker': 'no', 'region': 'southeast', 'charges': '1725.5523'}, {'age': '28', 'sex': 'male', 'bmi': '33', 'children': '3', 'smoker': 'no', 'region': 'southeast', 'charges': '4449.462'}, {'age': '33', 'sex': 'male', 'bmi': '22.705', 'children': '0', 'smoker': 'no', 'region': 'northwest', 'charges': '21984.47061'}, {'age': '32', 'sex': 'male', 'bmi': '28.88', 'children': '0', 'smoker': 'no', 'region': 'northwest', 'charges': '3866.8552'}]\n"
     ]
    }
   ],
   "source": [
    "print(data_list[:5])"
   ]
  },
  {
   "cell_type": "markdown",
   "metadata": {},
   "source": [
    "### 2. Class Creation:\n",
    "\n",
    "Define a class named PatientsInfo to encapsulate the analysis methods.\n",
    "\n",
    "2. Class Methods:\n",
    "\n",
    "2.1 analyze_ages():\n",
    "Calculate the average age of the patients.\n",
    "\n",
    "2.2 analyze_sexes():\n",
    "Return the count of males and females in the dataset.\n",
    "\n",
    "2.3 unique_regions():\n",
    "Identify the unique geographical regions represented in the dataset.\n",
    "\n",
    "2.4 average_charges():\n",
    "Calculate and return the average yearly medical charges incurred by the patients.\n",
    "\n",
    "2.5 insurance_cost_comparison():\n",
    "\n",
    "Calculate the average insurance charges for male smokers.\n",
    "Calculate the average insurance charges for male non-smokers.\n",
    "Compare insurance costs between male smokers and male non-smokers.\n",
    "\n",
    "Calculate the average insurance charges for female smokers.\n",
    "Calculate the average insurance charges for female non-smokers.\n",
    "Compare insurance costs between female smokers and female non-smokers."
   ]
  },
  {
   "cell_type": "code",
   "execution_count": 190,
   "metadata": {},
   "outputs": [],
   "source": [
    "class PatientsInfo:\n",
    "    def __init__(self, data_list):\n",
    "        self.data_list = data_list\n",
    "    \n",
    "    def analyze_ages(self):\n",
    "        avg_age = 0\n",
    "        for i in range(len(self.data_list)):\n",
    "            avg_age += int(self.data_list[i]['age'])\n",
    "        return avg_age / len(data_list)\n",
    "    \n",
    "    def analyze_sexes(self):\n",
    "        males = 0\n",
    "        females = 0\n",
    "        for i in range(len(self.data_list)):\n",
    "            if self.data_list[i]['sex'] == 'male':\n",
    "                males += 1\n",
    "            elif self.data_list[i]['sex'] == 'female':\n",
    "                females += 1\n",
    "        return ('Number of Male Patients is: '+str(males)+'. Number of Female Patients is: '+str(females))\n",
    "    \n",
    "    def unique_regions(self):\n",
    "        regions = []\n",
    "        for i in range(len(self.data_list)):\n",
    "            if self.data_list[i]['region'] not in regions:\n",
    "                regions.append(self.data_list[i]['region'])\n",
    "        return regions\n",
    "    \n",
    "    def average_charges(self):\n",
    "        avg_charge = 0\n",
    "        for i in range(len(data_list)):\n",
    "            avg_charge += float(self.data_list[i]['charges'])\n",
    "        return ('The average charge for all patients is: $'+str(round(avg_charge/len(data_list),2)))\n",
    "    \n",
    "    def insurance_cost_comparison(self):\n",
    "        male_smokers_avg_charge = 0\n",
    "        male_non_smokers_avg_charge = 0\n",
    "        female_smokers_avg_charge = 0\n",
    "        female_non_smokers_avg_charge = 0\n",
    "        \n",
    "        male_smokers_count = 0\n",
    "        male_non_smokers_count = 0\n",
    "        female_smokers_count = 0\n",
    "        female_non_smokers_count = 0\n",
    "        \n",
    "        for i in range(len(self.data_list)):\n",
    "            if self.data_list[i]['sex'] == 'male' and self.data_list[i]['smoker'] == 'yes':\n",
    "                male_smokers_avg_charge += float(self.data_list[i]['charges'])\n",
    "                male_smokers_count += 1\n",
    "            elif self.data_list[i]['sex'] == 'male' and self.data_list[i]['smoker'] == 'no':\n",
    "                male_non_smokers_avg_charge += float(self.data_list[i]['charges'])\n",
    "                male_non_smokers_count += 1\n",
    "            elif self.data_list[i]['sex'] == 'female' and self.data_list[i]['smoker'] == 'yes':\n",
    "                female_smokers_avg_charge += float(self.data_list[i]['charges'])\n",
    "                female_smokers_count +=1\n",
    "            elif self.data_list[i]['sex'] == 'female' and self.data_list[i]['smoker'] == 'no':\n",
    "                female_non_smokers_avg_charge += float(self.data_list[i]['charges'])\n",
    "                female_non_smokers_count += 1\n",
    "        \n",
    "        # Calculate average insurance cost for a single individual\n",
    "        avg_cost_single_male_smoker = round(male_smokers_avg_charge / max(1, male_smokers_count), 2)\n",
    "        avg_cost_single_male_non_smoker = round(male_non_smokers_avg_charge / max(1, male_non_smokers_count), 2)\n",
    "        avg_cost_single_female_smoker = round(female_smokers_avg_charge / max(1, female_smokers_count), 2)\n",
    "        avg_cost_single_female_non_smoker = round(female_non_smokers_avg_charge / max(1, female_non_smokers_count), 2)\n",
    "        \n",
    "        print(\"Male Smokers count: \",male_smokers_count)\n",
    "        print(\"Male non Smokers count: \",male_non_smokers_count)\n",
    "        print(\"Female Smokers count: \",female_smokers_count)\n",
    "        print(\"female non Smokers count: \",female_non_smokers_count)\n",
    "        \n",
    "        print(\"\\nThe average insurance cost for a single male smoker is: $\", avg_cost_single_male_smoker)\n",
    "        print(\"The average insurance cost for a single male non-smoker is: $\", avg_cost_single_male_non_smoker)\n",
    "        print(\"The average insurance cost for a single female smoker is: $\", avg_cost_single_female_smoker)\n",
    "        print(\"The average insurance cost for a single female non-smoker is: $\", avg_cost_single_female_non_smoker)\n",
    "        print(\"\\nThe difference in insurance cost between a male smoker and non smoker is: $\",round(avg_cost_single_male_smoker - avg_cost_single_male_non_smoker, 2))\n",
    "        print(\"The difference in insurance cost between a female smoker and non smoker is: $\",round(avg_cost_single_female_smoker - avg_cost_single_female_non_smoker, 2))"
   ]
  },
  {
   "cell_type": "code",
   "execution_count": 191,
   "metadata": {},
   "outputs": [],
   "source": [
    "patient_info = PatientsInfo(data_list)"
   ]
  },
  {
   "cell_type": "code",
   "execution_count": 192,
   "metadata": {},
   "outputs": [
    {
     "name": "stdout",
     "output_type": "stream",
     "text": [
      "39.20702541106129\n"
     ]
    }
   ],
   "source": [
    "print(patient_info.analyze_ages())"
   ]
  },
  {
   "cell_type": "code",
   "execution_count": 193,
   "metadata": {},
   "outputs": [
    {
     "name": "stdout",
     "output_type": "stream",
     "text": [
      "Number of Male Patients is: 676. Number of Female Patients is: 662\n"
     ]
    }
   ],
   "source": [
    "print(patient_info.analyze_sexes())"
   ]
  },
  {
   "cell_type": "code",
   "execution_count": 194,
   "metadata": {},
   "outputs": [
    {
     "name": "stdout",
     "output_type": "stream",
     "text": [
      "['southwest', 'southeast', 'northwest', 'northeast']\n"
     ]
    }
   ],
   "source": [
    "print(patient_info.unique_regions())"
   ]
  },
  {
   "cell_type": "code",
   "execution_count": 195,
   "metadata": {},
   "outputs": [
    {
     "name": "stdout",
     "output_type": "stream",
     "text": [
      "The average charge for all patients is: $13270.42\n"
     ]
    }
   ],
   "source": [
    "print(patient_info.average_charges())"
   ]
  },
  {
   "cell_type": "code",
   "execution_count": 196,
   "metadata": {},
   "outputs": [
    {
     "name": "stdout",
     "output_type": "stream",
     "text": [
      "Male Smokers count:  159\n",
      "Male non Smokers count:  517\n",
      "Female Smokers count:  115\n",
      "female non Smokers count:  547\n",
      "\n",
      "The average insurance cost for a single male smoker is: $ 33042.01\n",
      "The average insurance cost for a single male non-smoker is: $ 8087.2\n",
      "The average insurance cost for a single female smoker is: $ 30679.0\n",
      "The average insurance cost for a single female non-smoker is: $ 8762.3\n",
      "\n",
      "The difference in insurance cost between a male smoker and non smoker is: $ 24954.81\n",
      "The difference in insurance cost between a female smoker and non smoker is: $ 21916.7\n"
     ]
    }
   ],
   "source": [
    "patient_info.insurance_cost_comparison()"
   ]
  },
  {
   "cell_type": "markdown",
   "metadata": {},
   "source": [
    "## From the analysis, several observations and conclusions can be drawn:\n",
    "\n",
    "#### Gender Disparity:\n",
    "\n",
    "The dataset has a higher count of non-smoking individuals compared to smokers for both males and females.\n",
    "The average insurance cost for a single male smoker is significantly higher than that of a male non-smoker.\n",
    "Similarly, the average insurance cost for a single female smoker is considerably higher than that of a female non-smoker.\n",
    "\n",
    "#### Insurance Cost Disparities:\n",
    "\n",
    "The difference in insurance costs between male smokers and non-smokers is substantial, indicating that being a smoker has a significant impact on insurance charges for males.\n",
    "The same pattern is observed for females, where smokers incur considerably higher insurance costs compared to non-smokers.\n",
    "\n",
    "#### Cost of Smoking:\n",
    "\n",
    "Both male and female smokers, on average, face a higher financial burden for insurance compared to their non-smoking counterparts.\n",
    "The cost difference between smokers and non-smokers is notable, highlighting the financial implications of smoking on insurance charges.\n",
    "\n",
    "#### Consideration for Individuals:\n",
    "\n",
    "The average insurance cost for a single male smoker is much higher than that of a single male non-smoker.\n",
    "The same pattern is observed for females, emphasizing the impact of smoking on individual insurance costs.\n",
    "\n",
    "#### Policy Implications:\n",
    "\n",
    "These findings suggest that insurance policies may consider higher premiums for individuals who smoke, especially given the substantial difference in average insurance costs between smokers and non-smokers.\n",
    "\n",
    "#### Potential Further Investigation:\n",
    "\n",
    "Additional exploration and statistical analysis could be conducted to understand other factors influencing insurance costs, such as BMI, number of children, or regional variations.\n",
    "Overall, the analysis underscores the financial consequences of smoking on health insurance costs, supporting the notion that smokers generally face higher insurance premiums compared to non-smokers."
   ]
  }
 ],
 "metadata": {
  "kernelspec": {
   "display_name": "Python 3 (ipykernel)",
   "language": "python",
   "name": "python3"
  },
  "language_info": {
   "codemirror_mode": {
    "name": "ipython",
    "version": 3
   },
   "file_extension": ".py",
   "mimetype": "text/x-python",
   "name": "python",
   "nbconvert_exporter": "python",
   "pygments_lexer": "ipython3",
   "version": "3.11.5"
  }
 },
 "nbformat": 4,
 "nbformat_minor": 4
}
